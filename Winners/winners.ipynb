{
 "cells": [
  {
   "cell_type": "code",
   "execution_count": 32,
   "metadata": {},
   "outputs": [],
   "source": [
    "import pandas as pd\n",
    "import numpy as np\n",
    "\n",
    "def gen_winners(player, path):\n",
    "    # Load the data\n",
    "    events = pd.read_csv(path)\n",
    "    events['pointWonBy'] = events.groupby('pointNumber')['pointWonBy'].bfill()\n",
    "    events['isVolley'] = events['isVolley'].fillna(0)\n",
    "\n",
    "    # Filter for the player's returns and shots in rally\n",
    "    winners = events[(events['shotHitBy'] == player) & (events['isWinner'] == 1.0)][['shotHitBy', 'shotContactX', 'shotContactY', 'shotLocationX', 'shotLocationY', 'pointWonBy', 'isVolley', 'shotFhBh']].dropna(subset=['pointWonBy']).copy()\n",
    "\n",
    "    # Adjust shotLocationY and shotLocationX and flip shotContactX, shotContactY when shotLocation > 0\n",
    "    winners = winners.dropna()\n",
    "    winners['shotLocationX'] = winners.apply(lambda row: -row['shotLocationX'] if row['shotLocationY'] > 0 else row['shotLocationX'], axis=1)\n",
    "    winners['shotContactX'] = winners.apply(lambda row: -row['shotContactX'] if row['shotLocationY'] > 0 else row['shotContactX'], axis=1)\n",
    "    winners['shotContactY'] = winners.apply(lambda row: -row['shotContactY'] if row['shotLocationY'] > 0 else row['shotContactY'], axis=1)\n",
    "    winners['shotLocationY'] = winners.apply(lambda row: -row['shotLocationY'] if row['shotLocationY'] > 0 else row['shotLocationY'], axis=1)\n",
    "\n",
    "    print(winners)\n",
    "    # Export the data as JSON\n",
    "    winners_json = winners.to_json(orient='records')\n",
    "\n",
    "    with open('winners.json', 'w') as f:\n",
    "        f.write(winners_json)\n"
   ]
  },
  {
   "cell_type": "code",
   "execution_count": 33,
   "metadata": {},
   "outputs": [
    {
     "name": "stdout",
     "output_type": "stream",
     "text": [
      "       shotHitBy  shotContactX  shotContactY  shotLocationX  shotLocationY  \\\n",
      "29   Elise Wagle          40.0         488.0          105.0         -115.0   \n",
      "82   Elise Wagle          24.0          45.0         -118.0          -53.0   \n",
      "89   Elise Wagle          -8.0         285.0         -134.0         -386.0   \n",
      "281  Elise Wagle        -112.0         379.0         -157.0         -345.0   \n",
      "324  Elise Wagle          97.0         488.0          151.0         -281.0   \n",
      "402  Elise Wagle          91.0         436.0          139.0         -401.0   \n",
      "419  Elise Wagle         -62.0         260.0          -97.0         -431.0   \n",
      "447  Elise Wagle          52.0         487.0          -52.0          -66.0   \n",
      "545  Elise Wagle        -120.0         437.0         -141.0         -429.0   \n",
      "572  Elise Wagle          72.0         480.0          -34.0         -224.0   \n",
      "684  Elise Wagle          98.0         360.0           88.0         -354.0   \n",
      "\n",
      "      pointWonBy  isVolley  shotFhBh  \n",
      "29   Elise Wagle       0.0  Backhand  \n",
      "82   Elise Wagle       1.0  Forehand  \n",
      "89   Elise Wagle       0.0  Forehand  \n",
      "281  Elise Wagle       0.0  Forehand  \n",
      "324  Elise Wagle       0.0  Backhand  \n",
      "402  Elise Wagle       0.0  Forehand  \n",
      "419  Elise Wagle       0.0  Forehand  \n",
      "447  Elise Wagle       0.0  Backhand  \n",
      "545  Elise Wagle       0.0  Forehand  \n",
      "572  Elise Wagle       0.0  Backhand  \n",
      "684  Elise Wagle       0.0  Forehand  \n"
     ]
    }
   ],
   "source": [
    "player = \"Elise Wagle\"\n",
    "path = '../Shot_Visuals_EliseWagle_MotkaKomac.csv'\n",
    "gen_winners(player, path)"
   ]
  }
 ],
 "metadata": {
  "kernelspec": {
   "display_name": "Python 3",
   "language": "python",
   "name": "python3"
  },
  "language_info": {
   "codemirror_mode": {
    "name": "ipython",
    "version": 3
   },
   "file_extension": ".py",
   "mimetype": "text/x-python",
   "name": "python",
   "nbconvert_exporter": "python",
   "pygments_lexer": "ipython3",
   "version": "3.11.4"
  },
  "orig_nbformat": 4
 },
 "nbformat": 4,
 "nbformat_minor": 2
}
