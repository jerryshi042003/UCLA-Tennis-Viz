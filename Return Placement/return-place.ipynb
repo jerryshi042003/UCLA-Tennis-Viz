{
 "cells": [
  {
   "cell_type": "code",
   "execution_count": 15,
   "metadata": {},
   "outputs": [
    {
     "name": "stderr",
     "output_type": "stream",
     "text": [
      "/var/folders/gc/y_rdwxcs2pb0n4dz4z33dcth0000gn/T/ipykernel_23973/3281799175.py:15: DeprecationWarning: DataFrameGroupBy.apply operated on the grouping columns. This behavior is deprecated, and in a future version of pandas the grouping columns will be excluded from the operation. Either pass `include_groups=False` to exclude the groupings or explicitly select the grouping columns after groupby to silence this warning.\n",
      "  distribution = returns_place.groupby('width').apply(\n"
     ]
    }
   ],
   "source": [
    "import pandas as pd\n",
    "import numpy as np\n",
    "\n",
    "def gen_return_place(player, path, shotType='all'):\n",
    "    # Load the data\n",
    "    events = pd.read_csv(path)\n",
    "    events['pointWonBy'] = events.groupby('pointNumber')['pointWonBy'].bfill()\n",
    "\n",
    "    # Filter for the player's returns and shots in rally\n",
    "    returns_place = events[(events['shotHitBy'] == player) & (events['shotInRally'] == 2)][['shotHitBy', 'shotLocationX', 'shotLocationY', 'pointWonBy', 'isWinner', 'shotFhBh', 'lastShotError']].dropna(subset=['pointWonBy']).copy()\n",
    "\n",
    "    # Adjust shotLocationY and shotLocationX\n",
    "    returns_place['shotLocationY'] = returns_place['shotLocationY'].apply(lambda y: -y if y > 0 else y)\n",
    "    returns_place['shotLocationX'] = returns_place.apply(lambda row: -row['shotLocationX'] if row['shotLocationY'] < 0 else row['shotLocationX'], axis=1)\n",
    "    \n",
    "    # Filter by shotType if not 'all'\n",
    "    if shotType != 'all':\n",
    "        returns_place = returns_place[returns_place['shotFhBh'] == shotType]\n",
    "\n",
    "    # Categorize into 'left', 'mid', 'right' based on shotLocationX\n",
    "    returns_place['width'] = returns_place['shotLocationX'].apply(\n",
    "        lambda x: 'left' if x <= -52.5 else 'mid' if -52.5 < x < 52.5 else 'right'\n",
    "    )\n",
    "\n",
    "    # Calculate count + win pct.\n",
    "    distribution = returns_place.groupby('width').apply(\n",
    "        lambda df: pd.Series({\n",
    "            'freq': len(df),\n",
    "            'win_percentage': int((df['pointWonBy'] == df['shotHitBy']).mean() * 100)\n",
    "        })\n",
    "    ).reset_index()\n",
    "\n",
    "    max_win_percentage = distribution['win_percentage'].max()\n",
    "    min_win_percentage = distribution['win_percentage'].min()\n",
    "\n",
    "    # Assign 'max', 'min', or 'no' to the distribution based on win_percentage\n",
    "    distribution['maxMin'] = distribution['win_percentage'].apply(\n",
    "        lambda x: 'max' if x == max_win_percentage else 'min' if x == min_win_percentage else 'no'\n",
    "    )\n",
    "\n",
    "    # Convert win_percentage to string for display\n",
    "    distribution['win_percentage'] = distribution['win_percentage'].astype(str) + '%'\n",
    "\n",
    "    # Adjust x_mapping to match the width values\n",
    "    x_mapping = {\n",
    "        'left': {'x': -100},\n",
    "        'mid': {'x': 0},\n",
    "        'right': {'x': 100}\n",
    "    }\n",
    "\n",
    "    distribution['x'] = distribution['width'].map(lambda d: x_mapping[d]['x'])\n",
    "\n",
    "    # Export the data as JSON\n",
    "    returns_place_json = returns_place.to_json(orient='records')\n",
    "    distribution_json = distribution.to_json(orient='records')\n",
    "\n",
    "    with open('returns_place.json', 'w') as f:\n",
    "        f.write(returns_place_json)\n",
    "\n",
    "    with open('distribution.json', 'w') as f:\n",
    "        f.write(distribution_json)\n"
   ]
  },
  {
   "cell_type": "code",
   "execution_count": null,
   "metadata": {},
   "outputs": [],
   "source": [
    "player = \"Elise Wagle\"\n",
    "path = '../Shot_Visuals_EliseWagle_MotkaKomac.csv'\n",
    "shotType = \"all\"\n",
    "gen_return_place(player, path, shotType)"
   ]
  }
 ],
 "metadata": {
  "kernelspec": {
   "display_name": "Python 3",
   "language": "python",
   "name": "python3"
  },
  "language_info": {
   "codemirror_mode": {
    "name": "ipython",
    "version": 3
   },
   "file_extension": ".py",
   "mimetype": "text/x-python",
   "name": "python",
   "nbconvert_exporter": "python",
   "pygments_lexer": "ipython3",
   "version": "3.11.4"
  },
  "orig_nbformat": 4
 },
 "nbformat": 4,
 "nbformat_minor": 2
}
